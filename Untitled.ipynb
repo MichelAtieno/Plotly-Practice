{
 "cells": [
  {
   "cell_type": "code",
   "execution_count": 2,
   "metadata": {},
   "outputs": [
    {
     "name": "stdout",
     "output_type": "stream",
     "text": [
      "Requirement already satisfied: plotly in /home/michel/anaconda3/lib/python3.7/site-packages (3.6.0)\n",
      "Requirement already satisfied: six in /home/michel/anaconda3/lib/python3.7/site-packages (from plotly) (1.12.0)\n",
      "Requirement already satisfied: requests in /home/michel/anaconda3/lib/python3.7/site-packages (from plotly) (2.21.0)\n",
      "Requirement already satisfied: decorator>=4.0.6 in /home/michel/anaconda3/lib/python3.7/site-packages (from plotly) (4.3.0)\n",
      "Requirement already satisfied: retrying>=1.3.3 in /home/michel/anaconda3/lib/python3.7/site-packages (from plotly) (1.3.3)\n",
      "Requirement already satisfied: nbformat>=4.2 in /home/michel/anaconda3/lib/python3.7/site-packages (from plotly) (4.4.0)\n",
      "Requirement already satisfied: pytz in /home/michel/anaconda3/lib/python3.7/site-packages (from plotly) (2018.7)\n",
      "Requirement already satisfied: chardet<3.1.0,>=3.0.2 in /home/michel/anaconda3/lib/python3.7/site-packages (from requests->plotly) (3.0.4)\n",
      "Requirement already satisfied: idna<2.9,>=2.5 in /home/michel/anaconda3/lib/python3.7/site-packages (from requests->plotly) (2.8)\n",
      "Requirement already satisfied: certifi>=2017.4.17 in /home/michel/anaconda3/lib/python3.7/site-packages (from requests->plotly) (2018.11.29)\n",
      "Requirement already satisfied: urllib3<1.25,>=1.21.1 in /home/michel/anaconda3/lib/python3.7/site-packages (from requests->plotly) (1.24.1)\n",
      "Requirement already satisfied: ipython-genutils in /home/michel/anaconda3/lib/python3.7/site-packages (from nbformat>=4.2->plotly) (0.2.0)\n",
      "Requirement already satisfied: traitlets>=4.1 in /home/michel/anaconda3/lib/python3.7/site-packages (from nbformat>=4.2->plotly) (4.3.2)\n",
      "Requirement already satisfied: jsonschema!=2.5.0,>=2.4 in /home/michel/anaconda3/lib/python3.7/site-packages (from nbformat>=4.2->plotly) (2.6.0)\n",
      "Requirement already satisfied: jupyter-core in /home/michel/anaconda3/lib/python3.7/site-packages (from nbformat>=4.2->plotly) (4.4.0)\n"
     ]
    }
   ],
   "source": [
    "!pip install plotly"
   ]
  },
  {
   "cell_type": "code",
   "execution_count": 3,
   "metadata": {},
   "outputs": [],
   "source": [
    "import plotly.offline as pyo\n",
    "import pandas as pd\n",
    "import matplotlib.pyplot as plt\n"
   ]
  },
  {
   "cell_type": "code",
   "execution_count": 5,
   "metadata": {},
   "outputs": [],
   "source": [
    "orders = pd.read_excel('sales.xls')"
   ]
  },
  {
   "cell_type": "code",
   "execution_count": 6,
   "metadata": {},
   "outputs": [
    {
     "data": {
      "text/plain": [
       "<function matplotlib.pyplot.show(*args, **kw)>"
      ]
     },
     "execution_count": 6,
     "metadata": {},
     "output_type": "execute_result"
    },
    {
     "data": {
      "image/png": "[encoded data removed]",
      "text/plain": [
       "<Figure size 432x288 with 1 Axes>"
      ]
     },
     "metadata": {
      "needs_background": "light"
     },
     "output_type": "display_data"
    }
   ],
   "source": [
    "plt.plot(orders.Sales)\n",
    "plt.show"
   ]
  },
  {
   "cell_type": "code",
   "execution_count": 7,
   "metadata": {},
   "outputs": [
    {
     "data": {
      "text/plain": [
       "'file:///home/michel/Desktop/100DaysOfCode/Plotly/Plotly-Practice/temp-plot.html'"
      ]
     },
     "execution_count": 7,
     "metadata": {},
     "output_type": "execute_result"
    }
   ],
   "source": [
    "pyo.plot([{\n",
    "    'x' : orders.index,\n",
    "    'y' : orders.Sales\n",
    "}])"
   ]
  },
  {
   "cell_type": "code",
   "execution_count": 8,
   "metadata": {},
   "outputs": [],
   "source": [
    "orders_sf = orders[['Sales', 'Profit']]"
   ]
  },
  {
   "cell_type": "code",
   "execution_count": 9,
   "metadata": {},
   "outputs": [
    {
     "data": {
      "text/html": [
       "<div>\n",
       "<style scoped>\n",
       "    .dataframe tbody tr th:only-of-type {\n",
       "        vertical-align: middle;\n",
       "    }\n",
       "\n",
       "    .dataframe tbody tr th {\n",
       "        vertical-align: top;\n",
       "    }\n",
       "\n",
       "    .dataframe thead th {\n",
       "        text-align: right;\n",
       "    }\n",
       "</style>\n",
       "<table border=\"1\" class=\"dataframe\">\n",
       "  <thead>\n",
       "    <tr style=\"text-align: right;\">\n",
       "      <th></th>\n",
       "      <th>Sales</th>\n",
       "      <th>Profit</th>\n",
       "    </tr>\n",
       "  </thead>\n",
       "  <tbody>\n",
       "    <tr>\n",
       "      <th>0</th>\n",
       "      <td>261.5400</td>\n",
       "      <td>-213.2500</td>\n",
       "    </tr>\n",
       "    <tr>\n",
       "      <th>1</th>\n",
       "      <td>10123.0200</td>\n",
       "      <td>457.8100</td>\n",
       "    </tr>\n",
       "    <tr>\n",
       "      <th>2</th>\n",
       "      <td>244.5700</td>\n",
       "      <td>46.7075</td>\n",
       "    </tr>\n",
       "    <tr>\n",
       "      <th>3</th>\n",
       "      <td>4965.7595</td>\n",
       "      <td>1198.9710</td>\n",
       "    </tr>\n",
       "    <tr>\n",
       "      <th>4</th>\n",
       "      <td>394.2700</td>\n",
       "      <td>30.9400</td>\n",
       "    </tr>\n",
       "  </tbody>\n",
       "</table>\n",
       "</div>"
      ],
      "text/plain": [
       "        Sales     Profit\n",
       "0    261.5400  -213.2500\n",
       "1  10123.0200   457.8100\n",
       "2    244.5700    46.7075\n",
       "3   4965.7595  1198.9710\n",
       "4    394.2700    30.9400"
      ]
     },
     "execution_count": 9,
     "metadata": {},
     "output_type": "execute_result"
    }
   ],
   "source": [
    "orders_sf.head()"
   ]
  },
  {
   "cell_type": "code",
   "execution_count": 11,
   "metadata": {},
   "outputs": [
    {
     "data": {
      "text/plain": [
       "'file:///home/michel/Desktop/100DaysOfCode/Plotly/Plotly-Practice/temp-plot.html'"
      ]
     },
     "execution_count": 11,
     "metadata": {},
     "output_type": "execute_result"
    }
   ],
   "source": [
    "pyo.plot([{\n",
    "    'x':orders_sf.index,\n",
    "    'y':orders_sf[col],\n",
    "    'name': col\n",
    "} for col in orders_sf.columns])"
   ]
  },
  {
   "cell_type": "code",
   "execution_count": 12,
   "metadata": {},
   "outputs": [],
   "source": [
    "import plotly.graph_objs as go"
   ]
  },
  {
   "cell_type": "code",
   "execution_count": 19,
   "metadata": {},
   "outputs": [
    {
     "data": {
      "text/plain": [
       "'file:///home/michel/Desktop/100DaysOfCode/Plotly/Plotly-Practice/temp-plot.html'"
      ]
     },
     "execution_count": 19,
     "metadata": {},
     "output_type": "execute_result"
    }
   ],
   "source": [
    "pyo.plot([\n",
    "    go.Scatter(\n",
    "    x = orders_sf.Sales,\n",
    "    y = orders_sf.Profit,\n",
    "    mode = 'markers',)\n",
    "])"
   ]
  },
  {
   "cell_type": "code",
   "execution_count": null,
   "metadata": {},
   "outputs": [],
   "source": []
  }
 ],
 "metadata": {
  "kernelspec": {
   "display_name": "Python 3",
   "language": "python",
   "name": "python3"
  },
  "language_info": {
   "codemirror_mode": {
    "name": "ipython",
    "version": 3
   },
   "file_extension": ".py",
   "mimetype": "text/x-python",
   "name": "python",
   "nbconvert_exporter": "python",
   "pygments_lexer": "ipython3",
   "version": "3.7.1"
  }
 },
 "nbformat": 4,
 "nbformat_minor": 2
}
